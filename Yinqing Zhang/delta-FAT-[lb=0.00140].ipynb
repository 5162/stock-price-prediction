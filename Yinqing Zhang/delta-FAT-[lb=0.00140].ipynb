{
  "cells": [
    {
      "metadata": {
        "_uuid": "f63604ae8bd8623d98d943a70170a97e8eb00a26"
      },
      "cell_type": "markdown",
      "source": "* FAT: Forget about time\n* Delta: Predict (x\\* - last MidPrice) rather than x\\*"
    },
    {
      "metadata": {
        "_cell_guid": "79c7e3d0-c299-4dcb-8224-4455121ee9b0",
        "_uuid": "d629ff2d2480ee46fbb7e2d37f6b5fab8052498a",
        "trusted": true
      },
      "cell_type": "code",
      "source": "import numpy as np\nimport pandas as pd\nimport os\nimport time\n\nimport matplotlib.pyplot as plt\n%matplotlib inline\n\nfrom keras import regularizers\nfrom keras.models import Sequential\nfrom keras.layers.core import Dense, Dropout\nfrom keras.layers import LSTM\n\nfrom sklearn.preprocessing import StandardScaler",
      "execution_count": null,
      "outputs": []
    },
    {
      "metadata": {
        "trusted": true,
        "_uuid": "5fb25904369b3a9589de49f6ab9266e591cf6044"
      },
      "cell_type": "code",
      "source": "INPUT_DIR = '../input/'",
      "execution_count": null,
      "outputs": []
    },
    {
      "metadata": {
        "trusted": true,
        "_uuid": "d577f69d658795bc85bc0392de49d96f3828ac76"
      },
      "cell_type": "code",
      "source": "nRows = 430039\nnGiven = 10\nnPredict = 15\nnFeature = 7",
      "execution_count": null,
      "outputs": []
    },
    {
      "metadata": {
        "trusted": true,
        "_uuid": "117726073abb8cca8a6e3583f230b16b67d0a933"
      },
      "cell_type": "code",
      "source": "filename = os.path.join(INPUT_DIR, 'train_data.csv')\ntrain_csv = pd.read_csv(filename)\ntimestamp = []\nfor i in range(nRows):\n    dt = time.strptime(train_csv['Date'][i] + ' ' + train_csv['Time'][i], \"%Y-%m-%d %H:%M:%S\")\n    dt_new = time.mktime(dt)\n    timestamp.append(dt_new)",
      "execution_count": null,
      "outputs": []
    },
    {
      "metadata": {
        "trusted": true,
        "_uuid": "b0300d6bbbc637ad4b6e7d2b333891832f9b9990"
      },
      "cell_type": "code",
      "source": "index = ['MidPrice','LastPrice','Volume','BidPrice1','BidVolume1','AskPrice1','AskVolume1']\ntrain_ds = train_csv[index]",
      "execution_count": null,
      "outputs": []
    },
    {
      "metadata": {
        "trusted": true,
        "_uuid": "d4d3e7ce235383fc501a95da65c9d0e99b8a01c1"
      },
      "cell_type": "code",
      "source": "mid_price = np.array(train_csv['MidPrice']).astype(np.float64)",
      "execution_count": null,
      "outputs": []
    },
    {
      "metadata": {
        "trusted": true,
        "_uuid": "c1a2c84ccbc50d1f9aaa6cfdb5b75ec9bd53c3b7"
      },
      "cell_type": "code",
      "source": "x_raw = np.array(train_ds.values).astype(np.float64)",
      "execution_count": null,
      "outputs": []
    },
    {
      "metadata": {
        "trusted": true,
        "_uuid": "eb2c53b4a7b595d16ea049de416373c207b3a222"
      },
      "cell_type": "code",
      "source": "X = []\ny = []\n\nfake_point = 0\nvolume_sum = 0\nvolume_len = 0\n\nnoise_flag = True\n\nfor k in range(nRows - nGiven - nPredict):\n    if k%10000==0:\n        print(k,end = '\\r')\n    x_cur = x_raw[k:k+nGiven].copy()\n    last_mp = x_cur[nGiven-1,0]\n    for axis in [0,1,3,5]: # MidPrice, LastPrice, BidPrice1, AskPrice1\n        x_cur[:,axis] -= last_mp\n        x_cur[:,axis] /= last_mp\n\n    for i in range(9,0,-1):\n        x_cur[i,2]-=x_cur[i-1,2]\n        volume_sum+=x_cur[i,2]\n        volume_len+=1\n    x_cur[0,2]=volume_sum/volume_len\n    \n    if noise_flag:\n        x_cur*=(1 + 0.001*(np.random.rand(10,nFeature) - 0.5)*2)\n    \n    if timestamp[k+nGiven+nPredict] - timestamp[k]> (3*(nGiven+nPredict)): \n        fake_point+=1\n    else:\n        token = True\n        for i in range(nGiven+nPredict-1):\n            if timestamp[k+1+i] - timestamp[k+i] != 3:\n                token = False\n                break\n        if token:\n            X.append(x_cur)\n            y.append((sum(mid_price[k+nGiven:k+nGiven+nPredict])/nPredict-\n                         mid_price[k+nGiven-1])/mid_price[k+nGiven-1])\n        else:\n            fake_point+=1\nprint()\nprint(fake_point)",
      "execution_count": null,
      "outputs": []
    },
    {
      "metadata": {
        "trusted": true,
        "_uuid": "46d1c5db88d585276ec737d046753f2da9161447"
      },
      "cell_type": "code",
      "source": "X = np.array(X).astype(np.float64)\ny = np.array(y).astype(np.float64)\ny = y.reshape((-1,1))",
      "execution_count": null,
      "outputs": []
    },
    {
      "metadata": {
        "trusted": true,
        "_uuid": "32ee51110eeef1ebca31ea60b43d75fae5059186"
      },
      "cell_type": "code",
      "source": "X_tmp = X.reshape(-1,nFeature)",
      "execution_count": null,
      "outputs": []
    },
    {
      "metadata": {
        "trusted": true,
        "_uuid": "4f650e1b7c394a1c2af584ba91210c4d5c3f8d36"
      },
      "cell_type": "code",
      "source": "x_scaler = StandardScaler().fit(X_tmp)\nX_tmp_norm = x_scaler.transform(X_tmp)",
      "execution_count": null,
      "outputs": []
    },
    {
      "metadata": {
        "trusted": true,
        "_uuid": "b69898cec82f34fa3d08336704829fa413c6f1f2"
      },
      "cell_type": "code",
      "source": "X_norm = X_tmp_norm.reshape(-1,nGiven,nFeature)",
      "execution_count": null,
      "outputs": []
    },
    {
      "metadata": {
        "trusted": true,
        "_uuid": "9d1b8a357a44c22a3329459edb8ad0d8f4ef9892"
      },
      "cell_type": "code",
      "source": "if not noise_flag:\n    assert(X_norm[0][1][1]==X_norm[0][2][1])",
      "execution_count": null,
      "outputs": []
    },
    {
      "metadata": {
        "trusted": true,
        "_uuid": "b5145980e6bd3cc2c851dcc96a0e1d09f862f932"
      },
      "cell_type": "code",
      "source": "y_std = np.std(y)\ny_mean = np.mean(y)",
      "execution_count": null,
      "outputs": []
    },
    {
      "metadata": {
        "trusted": true,
        "_uuid": "3d1cf3e813c9ffd4c9378f13b4a531ffce210508"
      },
      "cell_type": "code",
      "source": "y_norm = (y-y_mean)/y_std",
      "execution_count": null,
      "outputs": []
    },
    {
      "metadata": {
        "trusted": true,
        "_uuid": "8567cd49e44cce1410a591944ca7677b1912c1e8"
      },
      "cell_type": "code",
      "source": "from sklearn.model_selection import train_test_split\nX_train, X_dev, y_train, y_dev = train_test_split(X_norm, y_norm, test_size=0.05, random_state=42)\nprint(X_train.shape)\nprint(y_train.shape)",
      "execution_count": null,
      "outputs": []
    },
    {
      "metadata": {
        "trusted": true,
        "_uuid": "c68f5595fd23386af16a2314403696b87190ea5a"
      },
      "cell_type": "code",
      "source": "model = Sequential()\nmodel.add(LSTM(input_shape=(None, nFeature),activation='softsign',dropout=0.5, units=256, return_sequences=True))\nmodel.add(LSTM(units=256,activation='softsign',dropout=0.5, return_sequences=False))\nmodel.add(Dense(64,kernel_initializer=\"glorot_normal\",activation='relu'))\nmodel.add(Dropout(0.5))\nmodel.add(Dense(1,kernel_initializer=\"uniform\",activation='linear'))\nmodel.compile(loss='mean_squared_error', optimizer='Adam')",
      "execution_count": null,
      "outputs": []
    },
    {
      "metadata": {
        "trusted": true,
        "_uuid": "92fa69c9a9a09f74a0d67d986e816bb41f20a5ea"
      },
      "cell_type": "code",
      "source": "batch_size = 128\nepochs = 12",
      "execution_count": null,
      "outputs": []
    },
    {
      "metadata": {
        "trusted": true,
        "_uuid": "8044ed0d107f211c646af49824dda47a652f71f7"
      },
      "cell_type": "code",
      "source": "hists = []\nhist = model.fit(X_train, y_train, \n                 epochs = epochs,\n                 batch_size = batch_size,\n                 validation_data=(X_dev,y_dev))\nhists.append(hist)",
      "execution_count": null,
      "outputs": []
    },
    {
      "metadata": {
        "trusted": true,
        "_uuid": "a9737bb6301d4c947bc1733d2597c31f4756f7a0"
      },
      "cell_type": "code",
      "source": "hist_df = pd.concat([pd.DataFrame(hist.history) for hist in hists], sort=True)\nhist_df.index = np.arange(1, len(hist_df)+1)\nfig, axs = plt.subplots(nrows=1, sharex=True, figsize=(16, 10))\naxs.plot(hist_df['val_loss'], lw=5, label='Validation MSELoss')\naxs.plot(hist_df['loss'], lw=5, label='Training MSELoss')\naxs.set_ylabel('MSELoss')\naxs.set_xlabel('Epoch')\naxs.grid()\naxs.legend(loc=0)\nfig.savefig('hist.png', dpi=300)\nplt.show();",
      "execution_count": null,
      "outputs": []
    },
    {
      "metadata": {
        "trusted": true,
        "_uuid": "73820f4850574a8460d0ca32cb8c624868c87b44"
      },
      "cell_type": "code",
      "source": "filename = os.path.join(INPUT_DIR, 'test_data.csv')\ntest_csv = pd.read_csv(filename)",
      "execution_count": null,
      "outputs": []
    },
    {
      "metadata": {
        "trusted": true,
        "_uuid": "7c6bf7655e105133eca1ba030d7d498d2792679b"
      },
      "cell_type": "code",
      "source": "nRows_test = 10000",
      "execution_count": null,
      "outputs": []
    },
    {
      "metadata": {
        "trusted": true,
        "_uuid": "f9774437893e698c268cc8a861a505f974a55b7a"
      },
      "cell_type": "code",
      "source": "index = ['MidPrice','LastPrice','Volume','BidPrice1','BidVolume1','AskPrice1','AskVolume1']\ntest_ds = test_csv[index]\nmid_price_test = np.array(test_csv['MidPrice']).astype(np.float64)\nx_test_raw = np.array(test_ds.values).astype(np.float64)",
      "execution_count": null,
      "outputs": []
    },
    {
      "metadata": {
        "trusted": true,
        "_uuid": "3085e4422ba3a55ec29d3464918aae39d90d4729"
      },
      "cell_type": "code",
      "source": "X_test = []\nmid_price_batch_test = []\nvolume_sum_test = 0\nvolume_len_test = 0\nfor k in range(int(nRows_test/nGiven)):\n    x_cur = x_test_raw[k*nGiven:k*nGiven+nGiven].copy()\n    last_mp = x_cur[nGiven-1,0]\n    for axis in [0,1,3,5]: # MidPrice, LastPrice, BidPrice1, AskPrice1\n        x_cur[:,axis] -= last_mp\n        x_cur[:,axis] /= last_mp\n\n    for i in range(9,0,-1):\n        x_cur[i,2]-=x_cur[i-1,2]\n        volume_sum_test+=x_cur[i,2]\n        volume_len_test+=1\n    x_cur[0,2]=volume_sum_test/volume_len_test\n    \n    X_test.append(x_cur)\n    mid_price_batch_test.append(mid_price_test[k*10+nGiven-1])",
      "execution_count": null,
      "outputs": []
    },
    {
      "metadata": {
        "trusted": true,
        "_uuid": "3e5797fe7e24bae3a4fe9063473f735273b77ed2"
      },
      "cell_type": "code",
      "source": "X_test = np.array(X_test).astype(np.float64)\nX_test = X_test.reshape(-1,nGiven,nFeature)\nmid_price_batch_test = np.array(mid_price_batch_test).astype(np.float64).reshape(-1,1)",
      "execution_count": null,
      "outputs": []
    },
    {
      "metadata": {
        "trusted": true,
        "_uuid": "658805ba653045721bae51f694a215150d08f3dc"
      },
      "cell_type": "code",
      "source": "X_tmp_test = X_test.reshape(-1,nFeature)\nX_tmp_norm_test = x_scaler.transform(X_tmp_test)\nX_norm_test = X_tmp_norm_test.reshape(-1,nGiven,nFeature)",
      "execution_count": null,
      "outputs": []
    },
    {
      "metadata": {
        "trusted": true,
        "_uuid": "f2893fd635e806e1a36a2b45fc39f6a1631c8837"
      },
      "cell_type": "code",
      "source": "y_test_pred = model.predict(X_norm_test)",
      "execution_count": null,
      "outputs": []
    },
    {
      "metadata": {
        "trusted": true,
        "_uuid": "6568f4c31b7e2c4fc78f01ac5e11f967b4cb77d1"
      },
      "cell_type": "code",
      "source": "y_test_pred = y_test_pred.reshape(-1,1)",
      "execution_count": null,
      "outputs": []
    },
    {
      "metadata": {
        "trusted": true,
        "_uuid": "c5f39b1538ba35fcf1af928570ba4167ceae0cfc"
      },
      "cell_type": "code",
      "source": "result = y_test_pred * mid_price_batch_test * y_std + y_mean + mid_price_batch_test",
      "execution_count": null,
      "outputs": []
    },
    {
      "metadata": {
        "trusted": true,
        "_uuid": "fc49ccb59b7b06f41346c590cbf7c49143a3a568"
      },
      "cell_type": "code",
      "source": "offset = 142",
      "execution_count": null,
      "outputs": []
    },
    {
      "metadata": {
        "trusted": true,
        "_uuid": "a1a79c78da8ce1288580851f5a9c9deb0b08d70d"
      },
      "cell_type": "code",
      "source": "result_offset = result[offset:int(nRows_test/10)]",
      "execution_count": null,
      "outputs": []
    },
    {
      "metadata": {
        "trusted": true,
        "_uuid": "dba933b9d0e13e115411951cb501772d5303268c"
      },
      "cell_type": "code",
      "source": "submission = pd.DataFrame({'caseid':list(range(offset+1,1001)),'midprice':result_offset.reshape(-1,)})",
      "execution_count": null,
      "outputs": []
    },
    {
      "metadata": {
        "trusted": true,
        "_uuid": "894c9ba874661c8b4dada6776a059ed77f4cd319"
      },
      "cell_type": "code",
      "source": "submission.to_csv('submission', index=False)\nsubmission.head()",
      "execution_count": null,
      "outputs": []
    },
    {
      "metadata": {
        "trusted": true,
        "_uuid": "a94209c3c3f5082a55c1645932368c0ff6c980dd"
      },
      "cell_type": "code",
      "source": "",
      "execution_count": null,
      "outputs": []
    }
  ],
  "metadata": {
    "kernelspec": {
      "display_name": "Python 3",
      "language": "python",
      "name": "python3"
    },
    "language_info": {
      "name": "python",
      "version": "3.6.6",
      "mimetype": "text/x-python",
      "codemirror_mode": {
        "name": "ipython",
        "version": 3
      },
      "pygments_lexer": "ipython3",
      "nbconvert_exporter": "python",
      "file_extension": ".py"
    }
  },
  "nbformat": 4,
  "nbformat_minor": 1
}
